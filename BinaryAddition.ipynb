{
 "cells": [
  {
   "cell_type": "markdown",
   "id": "803daea2",
   "metadata": {},
   "source": [
    "# Program for Addition of two Binary Numbers"
   ]
  },
  {
   "cell_type": "code",
   "execution_count": 8,
   "id": "645bb824",
   "metadata": {},
   "outputs": [
    {
     "data": {
      "text/plain": [
       "'1000'"
      ]
     },
     "execution_count": 8,
     "metadata": {},
     "output_type": "execute_result"
    }
   ],
   "source": [
    "def binary_addition(a,b):     #defining a function for binary addition\n",
    "    l1=len(a)\n",
    "    l2=len(b)\n",
    "    if l1 > l2:\n",
    "        while l1-l2 != 0:\n",
    "            b='0'+b\n",
    "            l2+=1\n",
    "    else:\n",
    "        while l2-l1 != 0:\n",
    "            a='0'+a\n",
    "            l1+=1\n",
    "    i=len(a)-1\n",
    "    c=0\n",
    "    res=''\n",
    "    while i >= 0:\n",
    "        s=0\n",
    "        s=c ^ int(a[i]) ^ int(b[i])  #performing the sum using xo opeartion\n",
    "        if int(a[i]) & int(b[i]) | int(a[i]) & c | int(b[i]) & c:  # computing the carry for next input\n",
    "            c=1\n",
    "        else:\n",
    "            c=0\n",
    "        i=i-1\n",
    "        res=str(s)+res   #storing the result\n",
    "    if c == 1:   #if the final carry is 1 then add it to the beginning of the result\n",
    "        res='1'+res\n",
    "    return res   #returing the result in string format\n",
    "a=\"1\"\n",
    "b=\"111\"\n",
    "binary_addition(a,b)"
   ]
  }
 ],
 "metadata": {
  "kernelspec": {
   "display_name": "Python 3",
   "language": "python",
   "name": "python3"
  },
  "language_info": {
   "codemirror_mode": {
    "name": "ipython",
    "version": 3
   },
   "file_extension": ".py",
   "mimetype": "text/x-python",
   "name": "python",
   "nbconvert_exporter": "python",
   "pygments_lexer": "ipython3",
   "version": "3.8.8"
  }
 },
 "nbformat": 4,
 "nbformat_minor": 5
}
